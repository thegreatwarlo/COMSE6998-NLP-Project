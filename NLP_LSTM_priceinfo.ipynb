{
  "nbformat": 4,
  "nbformat_minor": 0,
  "metadata": {
    "colab": {
      "name": "NLP_LSTM_priceinfo.ipynb",
      "version": "0.3.2",
      "views": {},
      "default_view": {},
      "provenance": [],
      "collapsed_sections": []
    },
    "kernelspec": {
      "name": "python3",
      "display_name": "Python 3"
    }
  },
  "cells": [
    {
      "metadata": {
        "id": "zXOOcakYLO45",
        "colab_type": "code",
        "colab": {
          "autoexec": {
            "startup": false,
            "wait_interval": 0
          },
          "resources": {
            "http://localhost:8080/nbextensions/google.colab/files.js": {
              "data": "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",
              "ok": true,
              "headers": [
                [
                  "content-type",
                  "application/javascript"
                ]
              ],
              "status": 200,
              "status_text": ""
            }
          },
          "base_uri": "https://localhost:8080/",
          "height": 87
        },
        "outputId": "03211c68-c4d4-4ca3-8c79-6daab1e327d9",
        "executionInfo": {
          "status": "ok",
          "timestamp": 1525585081563,
          "user_tz": 240,
          "elapsed": 23422,
          "user": {
            "displayName": "Mao Guan",
            "photoUrl": "//lh3.googleusercontent.com/-tw8XacBaHjA/AAAAAAAAAAI/AAAAAAAAABE/ap4zu0X2-1Y/s50-c-k-no/photo.jpg",
            "userId": "112605138981964979927"
          }
        }
      },
      "cell_type": "code",
      "source": [
        "from google.colab import files\n",
        "\n",
        "uploaded = files.upload()\n",
        "\n",
        "for fn in uploaded.keys():\n",
        "  print('User uploaded file \"{name}\" with length {length} bytes'.format(\n",
        "      name=fn, length=len(uploaded[fn])))"
      ],
      "execution_count": 4,
      "outputs": [
        {
          "output_type": "display_data",
          "data": {
            "text/html": [
              "\n",
              "     <input type=\"file\" id=\"files-e4292423-9b12-4797-88c0-90f3f0f5bb02\" name=\"files[]\" multiple disabled />\n",
              "     <output id=\"result-e4292423-9b12-4797-88c0-90f3f0f5bb02\">\n",
              "      Upload widget is only available when the cell has been executed in the\n",
              "      current browser session. Please rerun this cell to enable.\n",
              "      </output>\n",
              "      <script src=\"/nbextensions/google.colab/files.js\"></script> "
            ],
            "text/plain": [
              "<IPython.core.display.HTML object>"
            ]
          },
          "metadata": {
            "tags": []
          }
        },
        {
          "output_type": "stream",
          "text": [
            "Saving Final_feature_with_price.csv to Final_feature_with_price.csv\n",
            "User uploaded file \"Final_feature_with_price.csv\" with length 2429546 bytes\n"
          ],
          "name": "stdout"
        }
      ]
    },
    {
      "metadata": {
        "id": "ocIm-AKUMA8J",
        "colab_type": "code",
        "colab": {
          "autoexec": {
            "startup": false,
            "wait_interval": 0
          }
        }
      },
      "cell_type": "code",
      "source": [
        "def filter1(time):\n",
        "    a, b = time.split(' ')\n",
        "    year, month, day = a.split('-')\n",
        "    hour,minute,second = b.split(':')\n",
        "    return datetime(int(year),int(month),int(day),int(hour),int(minute),int(second))\n"
      ],
      "execution_count": 0,
      "outputs": []
    },
    {
      "metadata": {
        "id": "yyc5uYM4LXoK",
        "colab_type": "code",
        "colab": {
          "autoexec": {
            "startup": false,
            "wait_interval": 0
          }
        }
      },
      "cell_type": "code",
      "source": [
        "\n",
        "import pandas as pd\n",
        "from datetime import datetime\n",
        "import numpy as np\n",
        "\n",
        "features = pd.read_csv('Final_feature_with_price.csv')\n",
        "labels = pd.read_csv('final_label.csv')\n",
        "features['time'] = features['time'].apply(lambda x: filter1(x) )"
      ],
      "execution_count": 0,
      "outputs": []
    },
    {
      "metadata": {
        "id": "KI467B4Ttzyu",
        "colab_type": "code",
        "colab": {
          "autoexec": {
            "startup": false,
            "wait_interval": 0
          },
          "base_uri": "https://localhost:8080/",
          "height": 239
        },
        "outputId": "19fe73fa-36e2-4e3d-a108-efe1a0c5280e",
        "executionInfo": {
          "status": "ok",
          "timestamp": 1525585265587,
          "user_tz": 240,
          "elapsed": 397,
          "user": {
            "displayName": "Mao Guan",
            "photoUrl": "//lh3.googleusercontent.com/-tw8XacBaHjA/AAAAAAAAAAI/AAAAAAAAABE/ap4zu0X2-1Y/s50-c-k-no/photo.jpg",
            "userId": "112605138981964979927"
          }
        }
      },
      "cell_type": "code",
      "source": [
        "features.columns"
      ],
      "execution_count": 25,
      "outputs": [
        {
          "output_type": "execute_result",
          "data": {
            "text/plain": [
              "Index(['Unnamed: 0', 'time', 'vader_pos', 'vader_neu', 'vader_neg',\n",
              "       'vader_compound', 'socialsent_compound', 'socialsent_neu',\n",
              "       'socialsent_pos', 'socialsent_neg', 'vader_votes_compound',\n",
              "       'vader_votes_neu', 'vader_votes_neg', 'vader_votes_pos',\n",
              "       'socialsent_votes_compound', 'socialsent_votes_neu',\n",
              "       'socialsent_votes_neg', 'socialsent_votes_pos', 'vader_child_compound',\n",
              "       'vader_child_neu', 'vader_child_neg', 'vader_child_pos',\n",
              "       'socialsent_child_compound', 'socialsent_child_neu',\n",
              "       'socialsent_child_neg', 'socialsent_child_pos', 'None',\n",
              "       'Long-term Holder', 'Bitcoin Skeptic', 'Bearish', 'Bullish',\n",
              "       'num_comments', 'num_child', 'num_word', 'close', 'change',\n",
              "       'last_close'],\n",
              "      dtype='object')"
            ]
          },
          "metadata": {
            "tags": []
          },
          "execution_count": 25
        }
      ]
    },
    {
      "metadata": {
        "id": "aW1PIrLkMEHK",
        "colab_type": "code",
        "colab": {
          "autoexec": {
            "startup": false,
            "wait_interval": 0
          }
        }
      },
      "cell_type": "code",
      "source": [
        "label = []\n",
        "for i in range(labels.shape[0]):\n",
        "    x, y = labels['time'].iloc[i].split(' ')\n",
        "    a,b,c = x.split('-')\n",
        "    d,e,f = y.split(':')\n",
        "    label += [datetime(int(a),int(b),int(c),int(d),int(e),int(f))]\n",
        "labels['time'] = pd.DataFrame(label)\n",
        "labels['label'] = labels['label'].apply(lambda x: int(x) if x != 'nolabel' else x)"
      ],
      "execution_count": 0,
      "outputs": []
    },
    {
      "metadata": {
        "id": "Ubl0HPSRMJnE",
        "colab_type": "code",
        "colab": {
          "autoexec": {
            "startup": false,
            "wait_interval": 0
          }
        }
      },
      "cell_type": "code",
      "source": [
        "def drop_nan(data):\n",
        "  size = []\n",
        "  for i in range(data.shape[0]):\n",
        "    try:\n",
        "      int(data['label'].iloc[i])# == 'Nan':\n",
        "    except: \n",
        "      size += [i]\n",
        "  data = data.drop(data.index[size])\n",
        "  data = data.reset_index()\n",
        "  data = data.drop(['index'],axis = 1)\n",
        "  \n",
        "  return data\n",
        "labels = drop_nan(labels)"
      ],
      "execution_count": 0,
      "outputs": []
    },
    {
      "metadata": {
        "id": "jTU2iMrM51jd",
        "colab_type": "text"
      },
      "cell_type": "markdown",
      "source": [
        "# 1: Big Rise, 2:Small Rise, 3.Big Drop, 4.Small Drop"
      ]
    },
    {
      "metadata": {
        "id": "ry4IMR1mMTSH",
        "colab_type": "code",
        "colab": {
          "autoexec": {
            "startup": false,
            "wait_interval": 0
          },
          "base_uri": "https://localhost:8080/",
          "height": 399
        },
        "outputId": "3b535f52-d45e-4773-ffe9-ff95eab91a4c",
        "executionInfo": {
          "status": "ok",
          "timestamp": 1525585268738,
          "user_tz": 240,
          "elapsed": 373,
          "user": {
            "displayName": "Mao Guan",
            "photoUrl": "//lh3.googleusercontent.com/-tw8XacBaHjA/AAAAAAAAAAI/AAAAAAAAABE/ap4zu0X2-1Y/s50-c-k-no/photo.jpg",
            "userId": "112605138981964979927"
          }
        }
      },
      "cell_type": "code",
      "source": [
        "data = pd.merge(features, labels[['time','label']], how='inner', on='time')\n",
        "import seaborn as sns\n",
        "sns.set(style=\"darkgrid\")\n",
        "ax = sns.countplot(x=\"label\", data=data)"
      ],
      "execution_count": 28,
      "outputs": [
        {
          "output_type": "stream",
          "text": [
            "/usr/local/lib/python3.6/dist-packages/seaborn/categorical.py:1428: FutureWarning: remove_na is deprecated and is a private function. Do not use.\n",
            "  stat_data = remove_na(group_data)\n"
          ],
          "name": "stderr"
        },
        {
          "output_type": "display_data",
          "data": {
            "image/png": "[encoded data removed]",
            "text/plain": [
              "<matplotlib.figure.Figure at 0x7fd596e78a20>"
            ]
          },
          "metadata": {
            "tags": []
          }
        }
      ]
    },
    {
      "metadata": {
        "id": "bIvOV5NUMkIc",
        "colab_type": "code",
        "colab": {
          "autoexec": {
            "startup": false,
            "wait_interval": 0
          },
          "base_uri": "https://localhost:8080/",
          "height": 55
        },
        "outputId": "9d07c66e-b8fb-4be9-e47d-26a91c118c49",
        "executionInfo": {
          "status": "ok",
          "timestamp": 1525585269539,
          "user_tz": 240,
          "elapsed": 246,
          "user": {
            "displayName": "Mao Guan",
            "photoUrl": "//lh3.googleusercontent.com/-tw8XacBaHjA/AAAAAAAAAAI/AAAAAAAAABE/ap4zu0X2-1Y/s50-c-k-no/photo.jpg",
            "userId": "112605138981964979927"
          }
        }
      },
      "cell_type": "code",
      "source": [
        "\"\"\"\n",
        "def feature_correlation(data):\n",
        "    correlation = data.corr()\n",
        "    #print(correlation)\n",
        "    sns.heatmap(correlation, annot=True, cbar=True, cmap=\"RdYlGn\")\n",
        "    \n",
        "\n",
        "data[data.columns.difference(['Unnamed: 0','time','label'])].describe()\n",
        "\n",
        "feature_correlation(data[data.columns.difference(['time','label'])])\n",
        "\"\"\""
      ],
      "execution_count": 29,
      "outputs": [
        {
          "output_type": "execute_result",
          "data": {
            "text/plain": [
              "'\\ndef feature_correlation(data):\\n    correlation = data.corr()\\n    #print(correlation)\\n    sns.heatmap(correlation, annot=True, cbar=True, cmap=\"RdYlGn\")\\n    \\n\\ndata[data.columns.difference([\\'Unnamed: 0\\',\\'time\\',\\'label\\'])].describe()\\n\\nfeature_correlation(data[data.columns.difference([\\'time\\',\\'label\\'])])\\n'"
            ]
          },
          "metadata": {
            "tags": []
          },
          "execution_count": 29
        }
      ]
    },
    {
      "metadata": {
        "id": "yoRM5Zo4eR08",
        "colab_type": "code",
        "colab": {
          "autoexec": {
            "startup": false,
            "wait_interval": 0
          }
        }
      },
      "cell_type": "code",
      "source": [
        "#from sklearn.ensemble import ExtraTreesClassifier\n",
        "#from sklearn.feature_selection import SelectFromModel\n",
        "#from sklearn.multiclass import OneVsOneClassifier\n",
        "#X = data[data.columns.difference(['Unnamed: 0','time','label'])].values\n",
        "#y = data[['label']].values\n",
        "#clf = ExtraTreesClassifier()\n",
        "#clf = clf.fit(X, list(y[:,0]))\n",
        "#model = SelectFromModel(clf, prefit=True)\n",
        "#features= model.transform(X)\n",
        "#features.shape"
      ],
      "execution_count": 0,
      "outputs": []
    },
    {
      "metadata": {
        "id": "ASkARUTmMpin",
        "colab_type": "code",
        "colab": {
          "autoexec": {
            "startup": false,
            "wait_interval": 0
          }
        }
      },
      "cell_type": "code",
      "source": [
        "def decode(y):\n",
        "  s = []\n",
        "  for i in range(len(y)):\n",
        "    index = np.argmax(y[i])\n",
        "    s.append(index+1)\n",
        "  return np.array(s)\n",
        "\n",
        "def one_hot_encoding(data, typed='df'):\n",
        "    if typed == 'df':\n",
        "      size = []\n",
        "      for i in range(data.shape[0]):\n",
        "          tem = [0 for i in range(4)]\n",
        "\n",
        "          tem[int(data['label'].iloc[i])-1] = 1\n",
        "\n",
        "          size.append(tem)\n",
        "    else:\n",
        "      size = []\n",
        "      for i in range(data.shape[0]):\n",
        "          tem = [0 for i in range(4)]\n",
        "\n",
        "          tem[int(data[i])-1] = 1\n",
        "\n",
        "          size.append(tem)\n",
        "    return np.array(size)\n",
        "label = one_hot_encoding(data)\n",
        "#features = data[data.columns.difference(['time'])]\n",
        "#features = np.array(features)\n"
      ],
      "execution_count": 0,
      "outputs": []
    },
    {
      "metadata": {
        "id": "rfXJ-4_kAgF1",
        "colab_type": "code",
        "colab": {
          "autoexec": {
            "startup": false,
            "wait_interval": 0
          },
          "base_uri": "https://localhost:8080/",
          "height": 103
        },
        "outputId": "de46727f-a38c-4590-d721-dd9138322114",
        "executionInfo": {
          "status": "ok",
          "timestamp": 1525585273841,
          "user_tz": 240,
          "elapsed": 2289,
          "user": {
            "displayName": "Mao Guan",
            "photoUrl": "//lh3.googleusercontent.com/-tw8XacBaHjA/AAAAAAAAAAI/AAAAAAAAABE/ap4zu0X2-1Y/s50-c-k-no/photo.jpg",
            "userId": "112605138981964979927"
          }
        }
      },
      "cell_type": "code",
      "source": [
        "! pip install imblearn"
      ],
      "execution_count": 32,
      "outputs": [
        {
          "output_type": "stream",
          "text": [
            "Requirement already satisfied: imblearn in /usr/local/lib/python3.6/dist-packages (0.0)\r\n",
            "Requirement already satisfied: imbalanced-learn in /usr/local/lib/python3.6/dist-packages (from imblearn) (0.3.3)\r\n",
            "Requirement already satisfied: scikit-learn in /usr/local/lib/python3.6/dist-packages (from imbalanced-learn->imblearn) (0.19.1)\r\n",
            "Requirement already satisfied: scipy in /usr/local/lib/python3.6/dist-packages (from imbalanced-learn->imblearn) (0.19.1)\r\n",
            "Requirement already satisfied: numpy in /usr/local/lib/python3.6/dist-packages (from imbalanced-learn->imblearn) (1.14.3)\r\n"
          ],
          "name": "stdout"
        }
      ]
    },
    {
      "metadata": {
        "id": "RR6XPK-5Nzr_",
        "colab_type": "code",
        "colab": {
          "autoexec": {
            "startup": false,
            "wait_interval": 0
          }
        }
      },
      "cell_type": "code",
      "source": [
        "import numpy as np\n",
        "from imblearn.over_sampling import SMOTE \n",
        "\n",
        "def get_data(windowsize,features,label):\n",
        "  a = []\n",
        "  for i in range(windowsize, len(features)):\n",
        "      temp = []\n",
        "      for j in range(windowsize):\n",
        "        temp += [np.array([features[i-j-1]])]\n",
        "\n",
        "      a += [temp]\n",
        "  a = np.array(a)\n",
        "  features = a\n",
        "  label = label[windowsize::]\n",
        "  assert(label.shape[0] == features.shape[0])\n",
        "  features = features.reshape((features.shape[0], features.shape[1], features.shape[3]))\n",
        "  dim1 = features.shape[0]\n",
        "  dim2 = features.shape[1]\n",
        "  dim3 = features.shape[2]\n",
        "  \n",
        "  def balanced_data(features,label):\n",
        "    sm = SMOTE(random_state=42)\n",
        "    features, label = sm.fit_sample(features, decode(label))\n",
        "    print(features.shape)\n",
        "    features = features.reshape((features.shape[0],dim2,dim3))\n",
        "    label = one_hot_encoding(label,typed='nodf')\n",
        "    return features,label\n",
        "  \n",
        "  features = features.reshape((dim1,dim2*dim3))\n",
        "  features,label = balanced_data(features,label)\n",
        "  \n",
        "  return features, label\n"
      ],
      "execution_count": 0,
      "outputs": []
    },
    {
      "metadata": {
        "id": "RflCM0GomJeS",
        "colab_type": "code",
        "colab": {
          "autoexec": {
            "startup": false,
            "wait_interval": 0
          }
        }
      },
      "cell_type": "code",
      "source": [
        "Base = ['vader_pos', 'vader_neu', 'vader_neg', 'vader_compound','socialsent_compound', 'socialsent_neu', 'socialsent_pos', 'socialsent_neg','num_comments', 'num_word','None', 'Long-term Holder', 'Bitcoin Skeptic', 'Bearish', 'Bullish']\n",
        "children = []\n",
        "\n"
      ],
      "execution_count": 0,
      "outputs": []
    },
    {
      "metadata": {
        "id": "ULm_Poj3dxeU",
        "colab_type": "code",
        "colab": {
          "autoexec": {
            "startup": false,
            "wait_interval": 0
          }
        }
      },
      "cell_type": "code",
      "source": [
        "features0 = data[['vader_pos', 'vader_neu', 'vader_neg',\n",
        "       'vader_compound', 'socialsent_compound', 'socialsent_neu',\n",
        "       'socialsent_pos', 'socialsent_neg', 'None', 'Long-term Holder',\n",
        "       'Bitcoin Skeptic', 'Bearish', 'Bullish', 'num_comments', 'num_child',\n",
        "       'num_word','change']].values\n",
        "features1 = data[['vader_pos', 'vader_neu', 'vader_neg', 'vader_compound']].values \n",
        "features2 = data[['socialsent_compound', 'socialsent_neu', 'socialsent_pos', 'socialsent_neg']].values \n",
        "features3 = data[['None', 'Long-term Holder', 'Bitcoin Skeptic', 'Bearish', 'Bullish']].values \n",
        "features4 = data[['num_comments', 'num_word' ]].values \n",
        "\n",
        "features5 = data[['change' ]].values \n",
        "features6 = data[['vader_pos', 'vader_neu', 'vader_neg', 'vader_compound','socialsent_compound', 'socialsent_neu', 'socialsent_pos', 'socialsent_neg']].values"
      ],
      "execution_count": 0,
      "outputs": []
    },
    {
      "metadata": {
        "id": "1NC8Accxj9uO",
        "colab_type": "code",
        "colab": {
          "autoexec": {
            "startup": false,
            "wait_interval": 0
          }
        }
      },
      "cell_type": "code",
      "source": [
        "features = features6"
      ],
      "execution_count": 0,
      "outputs": []
    },
    {
      "metadata": {
        "id": "5VB3FgHJtFlp",
        "colab_type": "code",
        "colab": {
          "autoexec": {
            "startup": false,
            "wait_interval": 0
          }
        }
      },
      "cell_type": "code",
      "source": [
        "Base = ['vader_pos', 'vader_neu', 'vader_neg',\n",
        "       'vader_compound', 'socialsent_compound', 'socialsent_neu',\n",
        "       'socialsent_pos', 'socialsent_neg','None', 'Long-term Holder', 'Bitcoin Skeptic', 'Bearish', 'Bullish','num_comments', 'num_word','num_child']\n",
        "price = ['change'] \n",
        "votes = ['vader_votes_compound',\n",
        "       'vader_votes_neu', 'vader_votes_neg', 'vader_votes_pos',\n",
        "       'socialsent_votes_compound', 'socialsent_votes_neu',\n",
        "       'socialsent_votes_neg', 'socialsent_votes_pos'] \n",
        "children = ['vader_child_compound',\n",
        "       'vader_child_neu', 'vader_child_neg', 'vader_child_pos',\n",
        "       'socialsent_child_compound', 'socialsent_child_neu',\n",
        "       'socialsent_child_neg', 'socialsent_child_pos'] "
      ],
      "execution_count": 0,
      "outputs": []
    },
    {
      "metadata": {
        "id": "VUrxvrTWvcqS",
        "colab_type": "code",
        "colab": {
          "autoexec": {
            "startup": false,
            "wait_interval": 0
          }
        }
      },
      "cell_type": "code",
      "source": [
        "#data[Base].values\n",
        "#data[Base+price].values\n",
        "#data[Base+votes].values\n",
        "#data[Base+children].values\n",
        "#data[Base+price+votes].values\n",
        "#data[Base+price+votes+children].values\n",
        "features = data[Base+price+votes+children].values\n"
      ],
      "execution_count": 0,
      "outputs": []
    },
    {
      "metadata": {
        "id": "uigVSF-GyNyr",
        "colab_type": "code",
        "colab": {
          "autoexec": {
            "startup": false,
            "wait_interval": 0
          }
        }
      },
      "cell_type": "code",
      "source": [
        "from sklearn.linear_model import LogisticRegression \n",
        "from sklearn import datasets\n",
        "from sklearn.multiclass import OneVsRestClassifier\n",
        "from sklearn.metrics import precision_score,recall_score\n",
        "from sklearn.metrics import confusion_matrix\n",
        "from sklearn.metrics import accuracy_score\n",
        "from sklearn.metrics import precision_score,recall_score\n",
        "from sklearn.metrics import precision_score,recall_score\n",
        "from sklearn.svm import SVC\n",
        "from sklearn.tree import DecisionTreeClassifier\n",
        "from sklearn.ensemble import GradientBoostingClassifier\n",
        "from sklearn.ensemble import RandomForestClassifier\n",
        "def ensemble(y_val_hat1,y_valid1,y_val_hat2,y_valid2,y_test_hat1,y_test1,y_test_hat2,y_test2,classifier = 'LogR'):\n",
        "  #Input should be decoded labels\n",
        "    a = decode(y_val_hat1)\n",
        "    a = a.reshape((a.shape[0],1))\n",
        "    b = decode(y_val_hat2)\n",
        "    b = b.reshape((b.shape[0],1))\n",
        "    Feature_train = np.concatenate((a, b), axis=1)\n",
        "    Label_train = decode(y_valid1)\n",
        "    c = decode(y_test_hat1)\n",
        "    c = c.reshape((c.shape[0],1))\n",
        "    d = decode(y_test_hat2)\n",
        "    d = d.reshape((d.shape[0],1))\n",
        "    Feature_test = np.concatenate((c, d), axis=1)\n",
        "    Label_test = decode(y_test1)\n",
        "    if classifier == 'SVC':\n",
        "      y_hat_test = OneVsRestClassifier(SVC(random_state=1)).fit(Feature_train, Label_train).predict(Feature_test)    \n",
        "    if classifier == 'LogR':\n",
        "      y_hat_test = OneVsRestClassifier(LogisticRegression(random_state=1)).fit(Feature_train, Label_train).predict(Feature_test) \n",
        "    if classifier == 'DecT':\n",
        "      y_hat_test = OneVsRestClassifier(DecisionTreeClassifier(random_state=1)).fit(Feature_train, Label_train).predict(Feature_test) \n",
        "    if classifier == 'GBDT':\n",
        "      y_hat_test = OneVsRestClassifier(GradientBoostingClassifier(max_depth=30,random_state=1)).fit(Feature_train, Label_train).predict(Feature_test) \n",
        "    if classifier == 'RDF':\n",
        "      y_hat_test = OneVsRestClassifier(RandomForestClassifier(n_estimators=30,max_depth=30,random_state=1)).fit(Feature_train, Label_train).predict(Feature_test) \n",
        "   \n",
        "    print(\"Ensemble accuracy:\",accuracy_score(Label_test,y_hat_test))\n",
        "    \n",
        "    fpr, tpr, thresholds = metrics.roc_curve(Label_test, y_hat_test, pos_label=2)\n",
        "    f1_score_macro = metrics.f1_score(Label_test, y_hat_test, average='macro') \n",
        "    f1_score_micro = metrics.f1_score(Label_test, y_hat_test, average='micro') \n",
        "    auc = metrics.auc(fpr, tpr)\n",
        "    c_m = confusion_matrix(Label_test, y_hat_test,labels = [1,2,3,4])\n",
        "    precision_micro = metrics.precision_score(Label_test, y_hat_test,average='micro' )\n",
        "    precision_macro = metrics.precision_score(Label_test, y_hat_test,average='macro' )\n",
        "    recall_macro = metrics.recall_score(Label_test, y_hat_test,average='macro' )\n",
        "    recall_micro = metrics.recall_score(Label_test, y_hat_test,average='micro' )\n",
        "    return f1_score_macro,f1_score_micro,auc,precision_micro,precision_macro,recall_macro,recall_micro,c_m"
      ],
      "execution_count": 0,
      "outputs": []
    },
    {
      "metadata": {
        "id": "fNA3rpJYKvDq",
        "colab_type": "code",
        "colab": {
          "autoexec": {
            "startup": false,
            "wait_interval": 0
          }
        }
      },
      "cell_type": "code",
      "source": [
        "temp = []\n",
        "dec_ = decode(label)\n",
        "for i in range(dec_.shape[0]):\n",
        "  if dec_[i] != 4:\n",
        "    temp += [dec_[i]]\n",
        "  else:\n",
        "    temp += [2]\n",
        "label = one_hot_encoding(np.array(temp),typed = 'list')\n",
        "del dec_"
      ],
      "execution_count": 0,
      "outputs": []
    },
    {
      "metadata": {
        "id": "KTC7Uhg5N2Wy",
        "colab_type": "code",
        "colab": {
          "autoexec": {
            "startup": false,
            "wait_interval": 0
          },
          "base_uri": "https://localhost:8080/",
          "height": 2367
        },
        "outputId": "fe344afe-0eb6-4a95-f681-3193faa206e5",
        "executionInfo": {
          "status": "ok",
          "timestamp": 1525590167525,
          "user_tz": 240,
          "elapsed": 93413,
          "user": {
            "displayName": "Mao Guan",
            "photoUrl": "//lh3.googleusercontent.com/-tw8XacBaHjA/AAAAAAAAAAI/AAAAAAAAABE/ap4zu0X2-1Y/s50-c-k-no/photo.jpg",
            "userId": "112605138981964979927"
          }
        }
      },
      "cell_type": "code",
      "source": [
        "from keras.models import Sequential\n",
        "from keras.layers import *\n",
        "from sklearn import metrics\n",
        "from sklearn.model_selection import train_test_split\n",
        "from sklearn.metrics import confusion_matrix\n",
        "\n",
        "\n",
        "def model(features,label,window):\n",
        "  \n",
        "    features, label = get_data(window,features,label)\n",
        "        \n",
        "    X_train, X_test, y_train, y_test = train_test_split(features, label, test_size=0.3, random_state=42)\n",
        "    #indices = int(0.8 * X_train.shape[0])\n",
        "    #X_train, y_train, X_valid, y_valid = X_train[0:indices], y_train[0:indices], X_train[indices::], y_train[indices::]\n",
        "    \n",
        "    model = Sequential()\n",
        "    \n",
        "    model.add(LSTM(128, input_shape = (features.shape[1],features.shape[2]),\n",
        "                   return_sequences=False,dropout=0.2, recurrent_dropout=0.2 ))\n",
        "    \n",
        "    model.add(Dense(24))\n",
        "    model.add(Dropout(0.4))\n",
        "    #model.add(Activation('linear'))\n",
        "    model.add(Dense(4))\n",
        "    model.add(Activation('softmax'))\n",
        "    model.compile(loss='categorical_crossentropy', optimizer='adam', metrics=['categorical_accuracy'])\n",
        "\n",
        "    model.summary()\n",
        "\n",
        "    history = model.fit(X_train, y_train, epochs=2000, batch_size=64,validation_data=(X_test, y_test))\n",
        "    y_test_hat = model.predict(X_test, verbose = 0)\n",
        "    c_m = confusion_matrix(decode(y_test),decode(y_test_hat),labels = [1,2,3,4])\n",
        "    fpr, tpr, thresholds = metrics.roc_curve(decode(y_test), decode(y_test_hat), pos_label=2)\n",
        "    f1_score_macro = metrics.f1_score(decode(y_test), decode(y_test_hat), average='macro') \n",
        "    f1_score_micro = metrics.f1_score(decode(y_test), decode(y_test_hat), average='micro') \n",
        "    auc = metrics.auc(fpr, tpr)\n",
        "    from sklearn.metrics import precision_score,recall_score\n",
        "    precision_micro = metrics.precision_score(decode(y_test),decode(y_test_hat),average='micro' )\n",
        "    precision_macro = metrics.precision_score(decode(y_test),decode(y_test_hat),average='macro' )\n",
        "    recall_macro = metrics.recall_score(decode(y_test),decode(y_test_hat),average='macro' )\n",
        "    recall_micro = metrics.recall_score(decode(y_test),decode(y_test_hat),average='micro' )\n",
        "    \n",
        "    return f1_score_macro,f1_score_micro,auc,precision_micro,precision_macro,recall_macro,recall_micro, history,c_m\n",
        "\n",
        "def model2(features,label,window):\n",
        "  \n",
        "    features, label = get_data(window,features,label)\n",
        "        \n",
        "    X_train, X_test, y_train, y_test = train_test_split(features, label, test_size=0.2, random_state=42)\n",
        "    indices = int(0.8 * X_train.shape[0])\n",
        "    X_train, y_train, X_valid, y_valid = X_train[0:indices], y_train[0:indices], X_train[indices::], y_train[indices::]\n",
        "    \n",
        "    model = Sequential()\n",
        "    \n",
        "    model.add(LSTM(128, input_shape = (features.shape[1],features.shape[2]),\n",
        "                   return_sequences=False,dropout=0.2, recurrent_dropout=0.2 ))\n",
        "    \n",
        "    model.add(Dense(24))\n",
        "    #model.add(Activation('linear'))\n",
        "    model.add(Dense(4))\n",
        "    model.add(Activation('softmax'))\n",
        "    model.compile(loss='categorical_crossentropy', optimizer='adam', metrics=['categorical_accuracy'])\n",
        "\n",
        "    model.summary()\n",
        "\n",
        "    history = model.fit(X_train, y_train, epochs=20, batch_size=64,validation_data=(X_valid, y_valid))\n",
        "    y_val_hat = model.predict(X_valid, verbose = 0)\n",
        "    y_test_hat = model.predict(X_test, verbose = 0)\n",
        "    \n",
        "    c_m = confusion_matrix(decode(y_test),decode(y_test_hat),labels = [1,2,3,4])\n",
        "    fpr, tpr, thresholds = metrics.roc_curve(decode(y_test), decode(y_test_hat), pos_label=1)\n",
        "    f1_score_macro = metrics.f1_score(decode(y_test), decode(y_test_hat), average='macro') \n",
        "    f1_score_micro = metrics.f1_score(decode(y_test), decode(y_test_hat), average='micro') \n",
        "    auc = metrics.auc(fpr, tpr)\n",
        "    from sklearn.metrics import precision_score,recall_score\n",
        "    precision_micro = metrics.precision_score(decode(y_test),decode(y_test_hat),average='micro' )\n",
        "    precision_macro = metrics.precision_score(decode(y_test),decode(y_test_hat),average='macro' )\n",
        "    recall_macro = metrics.recall_score(decode(y_test),decode(y_test_hat),average='macro' )\n",
        "    recall_micro = metrics.recall_score(decode(y_test),decode(y_test_hat),average='micro' )\n",
        "    a = {'auc': auc, 'precision_micro':precision_micro,'precision_macro':precision_macro,'recall_macro':recall_macro,'recall_micro':recall_micro,\n",
        "              'f1_score_macro':f1_score_macro, 'f1_score_micro':f1_score_micro}\n",
        "    print(\"for window size 10:\", a)\n",
        "    print(\"Confusion Matrix is:\\n\",c_m)\n",
        "    return y_val_hat,y_valid, y_test_hat,y_test    \n",
        "\n",
        "\n",
        "    \n",
        "    \n",
        "result = {} \n",
        "features1 = data[Base+votes+children].values\n",
        "features2 = data[price].values\n",
        "\n",
        "for i in {10}:\n",
        "  y_val_hat1,y_valid1, y_test_hat1,y_test1 = model2(features1, label, i)\n",
        "  y_val_hat2,y_valid2, y_test_hat2,y_test2 = model2(features2, label, i)\n",
        "  f1_score_macro,f1_score_micro,auc,precision_micro,precision_macro,recall_macro,recall_micro,c_m = ensemble(y_val_hat1,y_valid1,y_val_hat2,y_valid2,y_test_hat1,y_test1,y_test_hat2,y_test2)\n",
        "  result[i] = {'auc': auc, 'precision_micro':precision_micro,'precision_macro':precision_macro,'recall_macro':recall_macro,'recall_micro':recall_micro,\n",
        "              'f1_score_macro':f1_score_macro, 'f1_score_micro':f1_score_micro}\n",
        "  print(\"for window size {}:\".format(i), result[i])\n",
        "  print(\"Confusion Matrix is:\\n\",c_m)\n",
        "\n",
        "#\n",
        "#for i in {10}:\n",
        "#  f1_score_macro,f1_score_micro,auc,precision_micro,precision_macro,recall_macro,recall_micro, history, c_m= model(features, label, i)\n",
        "#  result[i] = {'auc': auc, 'precision_micro':precision_micro,'precision_macro':precision_macro,'recall_macro':recall_macro,'recall_micro':recall_micro,\n",
        "#              'f1_score_macro':f1_score_macro, 'f1_score_micro':f1_score_micro,'history':history}\n",
        "#  print(\"for window size {}:\".format(i), result[i])\n",
        "#  print(\"Confusion Matrix is:\\n\",c_m)\n"
      ],
      "execution_count": 77,
      "outputs": [
        {
          "output_type": "stream",
          "text": [
            "(7632, 320)\n",
            "_________________________________________________________________\n",
            "Layer (type)                 Output Shape              Param #   \n",
            "=================================================================\n",
            "lstm_12 (LSTM)               (None, 128)               82432     \n",
            "_________________________________________________________________\n",
            "dense_23 (Dense)             (None, 24)                3096      \n",
            "_________________________________________________________________\n",
            "dense_24 (Dense)             (None, 4)                 100       \n",
            "_________________________________________________________________\n",
            "activation_12 (Activation)   (None, 4)                 0         \n",
            "=================================================================\n",
            "Total params: 85,628\n",
            "Trainable params: 85,628\n",
            "Non-trainable params: 0\n",
            "_________________________________________________________________\n",
            "Train on 4884 samples, validate on 1221 samples\n",
            "Epoch 1/20\n",
            "4884/4884 [==============================] - 4s 906us/step - loss: 1.4274 - categorical_accuracy: 0.2553 - val_loss: 1.3896 - val_categorical_accuracy: 0.2678\n",
            "Epoch 2/20\n",
            "4884/4884 [==============================] - 2s 424us/step - loss: 1.4065 - categorical_accuracy: 0.2551 - val_loss: 1.3838 - val_categorical_accuracy: 0.2793\n",
            "Epoch 3/20\n",
            "2304/4884 [=============>................] - ETA: 1s - loss: 1.4002 - categorical_accuracy: 0.2517"
          ],
          "name": "stdout"
        },
        {
          "output_type": "stream",
          "text": [
            "4884/4884 [==============================] - 2s 435us/step - loss: 1.3998 - categorical_accuracy: 0.2516 - val_loss: 1.3864 - val_categorical_accuracy: 0.2760\n",
            "Epoch 4/20\n",
            "4884/4884 [==============================] - 2s 433us/step - loss: 1.3969 - categorical_accuracy: 0.2586 - val_loss: 1.3871 - val_categorical_accuracy: 0.2523\n",
            "Epoch 5/20\n",
            "4884/4884 [==============================] - 2s 429us/step - loss: 1.3956 - categorical_accuracy: 0.2527 - val_loss: 1.3848 - val_categorical_accuracy: 0.2654\n",
            "Epoch 6/20\n",
            "4884/4884 [==============================] - 2s 430us/step - loss: 1.3955 - categorical_accuracy: 0.2580 - val_loss: 1.3871 - val_categorical_accuracy: 0.2719\n",
            "Epoch 7/20\n",
            "4884/4884 [==============================] - 2s 430us/step - loss: 1.3901 - categorical_accuracy: 0.2690 - val_loss: 1.3837 - val_categorical_accuracy: 0.2621\n",
            "Epoch 8/20\n",
            "4288/4884 [=========================>....] - ETA: 0s - loss: 1.3924 - categorical_accuracy: 0.2694"
          ],
          "name": "stdout"
        },
        {
          "output_type": "stream",
          "text": [
            "4884/4884 [==============================] - 2s 434us/step - loss: 1.3924 - categorical_accuracy: 0.2692 - val_loss: 1.3823 - val_categorical_accuracy: 0.2686\n",
            "Epoch 9/20\n",
            "4884/4884 [==============================] - 2s 431us/step - loss: 1.3885 - categorical_accuracy: 0.2670 - val_loss: 1.3785 - val_categorical_accuracy: 0.3038\n",
            "Epoch 10/20\n",
            "4884/4884 [==============================] - 2s 426us/step - loss: 1.3894 - categorical_accuracy: 0.2760 - val_loss: 1.3806 - val_categorical_accuracy: 0.2826\n",
            "Epoch 11/20\n",
            "4884/4884 [==============================] - 2s 432us/step - loss: 1.3899 - categorical_accuracy: 0.2547 - val_loss: 1.3790 - val_categorical_accuracy: 0.2809\n",
            "Epoch 12/20\n",
            "4884/4884 [==============================] - 2s 425us/step - loss: 1.3883 - categorical_accuracy: 0.2652 - val_loss: 1.4051 - val_categorical_accuracy: 0.2752\n",
            "Epoch 13/20\n",
            "4352/4884 [=========================>....] - ETA: 0s - loss: 1.3911 - categorical_accuracy: 0.2654"
          ],
          "name": "stdout"
        },
        {
          "output_type": "stream",
          "text": [
            "4884/4884 [==============================] - 2s 426us/step - loss: 1.3913 - categorical_accuracy: 0.2635 - val_loss: 1.3810 - val_categorical_accuracy: 0.2719\n",
            "Epoch 14/20\n",
            "4884/4884 [==============================] - 2s 438us/step - loss: 1.3887 - categorical_accuracy: 0.2645 - val_loss: 1.3761 - val_categorical_accuracy: 0.2793\n",
            "Epoch 15/20\n",
            "4884/4884 [==============================] - 2s 428us/step - loss: 1.3843 - categorical_accuracy: 0.2809 - val_loss: 1.3782 - val_categorical_accuracy: 0.2768\n",
            "Epoch 16/20\n",
            "4884/4884 [==============================] - 2s 425us/step - loss: 1.3866 - categorical_accuracy: 0.2758 - val_loss: 1.3846 - val_categorical_accuracy: 0.2719\n",
            "Epoch 17/20\n",
            "4884/4884 [==============================] - 2s 428us/step - loss: 1.3862 - categorical_accuracy: 0.2758 - val_loss: 1.3779 - val_categorical_accuracy: 0.2793\n",
            "Epoch 18/20\n",
            "4736/4884 [============================>.] - ETA: 0s - loss: 1.3833 - categorical_accuracy: 0.2665"
          ],
          "name": "stdout"
        },
        {
          "output_type": "stream",
          "text": [
            "4884/4884 [==============================] - 2s 422us/step - loss: 1.3838 - categorical_accuracy: 0.2662 - val_loss: 1.3933 - val_categorical_accuracy: 0.2867\n",
            "Epoch 19/20\n",
            "4884/4884 [==============================] - 2s 428us/step - loss: 1.3884 - categorical_accuracy: 0.2664 - val_loss: 1.3843 - val_categorical_accuracy: 0.2924\n",
            "Epoch 20/20\n",
            "4884/4884 [==============================] - 2s 420us/step - loss: 1.3854 - categorical_accuracy: 0.2791 - val_loss: 1.3793 - val_categorical_accuracy: 0.2957\n",
            "for window size 10: {'auc': 0.4687277474483741, 'precision_micro': 0.29469548133595286, 'precision_macro': 0.2842495206026946, 'recall_macro': 0.2989477612342931, 'recall_micro': 0.29469548133595286, 'f1_score_macro': 0.21645815030477172, 'f1_score_micro': 0.29469548133595286}\n",
            "Confusion Matrix is:\n",
            " [[ 18   6 158 201]\n",
            " [  9   2 144 236]\n",
            " [ 15   1 185 179]\n",
            " [ 10   1 117 245]]\n",
            "(7632, 10)\n",
            "_________________________________________________________________\n",
            "Layer (type)                 Output Shape              Param #   \n",
            "=================================================================\n",
            "lstm_13 (LSTM)               (None, 128)               66560     \n",
            "_________________________________________________________________\n",
            "dense_25 (Dense)             (None, 24)                3096      \n",
            "_________________________________________________________________\n",
            "dense_26 (Dense)             (None, 4)                 100       \n",
            "_________________________________________________________________\n",
            "activation_13 (Activation)   (None, 4)                 0         \n",
            "=================================================================\n",
            "Total params: 69,756\n",
            "Trainable params: 69,756\n",
            "Non-trainable params: 0\n",
            "_________________________________________________________________\n",
            "Train on 4884 samples, validate on 1221 samples\n",
            "Epoch 1/20\n",
            "4884/4884 [==============================] - 4s 874us/step - loss: 1.3866 - categorical_accuracy: 0.2520 - val_loss: 1.3885 - val_categorical_accuracy: 0.2383\n",
            "Epoch 2/20\n",
            " 896/4884 [====>.........................] - ETA: 1s - loss: 1.3884 - categorical_accuracy: 0.2712"
          ],
          "name": "stdout"
        },
        {
          "output_type": "stream",
          "text": [
            "4884/4884 [==============================] - 2s 386us/step - loss: 1.3870 - categorical_accuracy: 0.2510 - val_loss: 1.3870 - val_categorical_accuracy: 0.2490\n",
            "Epoch 3/20\n",
            "4884/4884 [==============================] - 2s 394us/step - loss: 1.3872 - categorical_accuracy: 0.2418 - val_loss: 1.3873 - val_categorical_accuracy: 0.2490\n",
            "Epoch 4/20\n",
            "4884/4884 [==============================] - 2s 391us/step - loss: 1.3867 - categorical_accuracy: 0.2457 - val_loss: 1.3864 - val_categorical_accuracy: 0.2383\n",
            "Epoch 5/20\n",
            "4884/4884 [==============================] - 2s 390us/step - loss: 1.3869 - categorical_accuracy: 0.2545 - val_loss: 1.3872 - val_categorical_accuracy: 0.2383\n",
            "Epoch 6/20\n",
            "4884/4884 [==============================] - 2s 393us/step - loss: 1.3867 - categorical_accuracy: 0.2461 - val_loss: 1.3863 - val_categorical_accuracy: 0.2465\n",
            "Epoch 7/20\n",
            "4884/4884 [==============================] - 2s 393us/step - loss: 1.3867 - categorical_accuracy: 0.2406 - val_loss: 1.3866 - val_categorical_accuracy: 0.2490\n",
            "Epoch 8/20\n",
            " 640/4884 [==>...........................] - ETA: 1s - loss: 1.3860 - categorical_accuracy: 0.2594"
          ],
          "name": "stdout"
        },
        {
          "output_type": "stream",
          "text": [
            "4884/4884 [==============================] - 2s 388us/step - loss: 1.3862 - categorical_accuracy: 0.2414 - val_loss: 1.3872 - val_categorical_accuracy: 0.2523\n",
            "Epoch 9/20\n",
            "4884/4884 [==============================] - 2s 393us/step - loss: 1.3854 - categorical_accuracy: 0.2486 - val_loss: 1.3864 - val_categorical_accuracy: 0.2604\n",
            "Epoch 10/20\n",
            "4884/4884 [==============================] - 2s 395us/step - loss: 1.3872 - categorical_accuracy: 0.2586 - val_loss: 1.3869 - val_categorical_accuracy: 0.2490\n",
            "Epoch 11/20\n",
            "4884/4884 [==============================] - 2s 390us/step - loss: 1.3863 - categorical_accuracy: 0.2529 - val_loss: 1.3865 - val_categorical_accuracy: 0.2547\n",
            "Epoch 12/20\n",
            "4884/4884 [==============================] - 2s 394us/step - loss: 1.3844 - categorical_accuracy: 0.2604 - val_loss: 1.3855 - val_categorical_accuracy: 0.2752\n",
            "Epoch 13/20\n",
            "4884/4884 [==============================] - 2s 386us/step - loss: 1.3835 - categorical_accuracy: 0.2809 - val_loss: 1.3868 - val_categorical_accuracy: 0.2506\n",
            "Epoch 14/20\n",
            " 576/4884 [==>...........................] - ETA: 1s - loss: 1.3859 - categorical_accuracy: 0.2656"
          ],
          "name": "stdout"
        },
        {
          "output_type": "stream",
          "text": [
            "4884/4884 [==============================] - 2s 395us/step - loss: 1.3820 - categorical_accuracy: 0.2721 - val_loss: 1.3889 - val_categorical_accuracy: 0.2670\n",
            "Epoch 15/20\n",
            "4884/4884 [==============================] - 2s 393us/step - loss: 1.3834 - categorical_accuracy: 0.2742 - val_loss: 1.3840 - val_categorical_accuracy: 0.2760\n",
            "Epoch 16/20\n",
            "4884/4884 [==============================] - 2s 390us/step - loss: 1.3827 - categorical_accuracy: 0.2713 - val_loss: 1.3843 - val_categorical_accuracy: 0.2629\n",
            "Epoch 17/20\n",
            "4884/4884 [==============================] - 2s 391us/step - loss: 1.3824 - categorical_accuracy: 0.2686 - val_loss: 1.3837 - val_categorical_accuracy: 0.2875\n",
            "Epoch 18/20\n",
            "4884/4884 [==============================] - 2s 396us/step - loss: 1.3809 - categorical_accuracy: 0.2727 - val_loss: 1.3851 - val_categorical_accuracy: 0.2555\n",
            "Epoch 19/20\n",
            "4884/4884 [==============================] - 2s 384us/step - loss: 1.3816 - categorical_accuracy: 0.2791 - val_loss: 1.3850 - val_categorical_accuracy: 0.2744\n",
            "Epoch 20/20\n",
            " 384/4884 [=>............................] - ETA: 1s - loss: 1.3818 - categorical_accuracy: 0.2630"
          ],
          "name": "stdout"
        },
        {
          "output_type": "stream",
          "text": [
            "4884/4884 [==============================] - 2s 388us/step - loss: 1.3788 - categorical_accuracy: 0.2748 - val_loss: 1.3837 - val_categorical_accuracy: 0.2793\n",
            "for window size 10: {'auc': 0.4670536708722088, 'precision_micro': 0.27897838899803534, 'precision_macro': 0.3385236441057822, 'recall_macro': 0.2805065828396485, 'recall_micro': 0.27897838899803534, 'f1_score_macro': 0.2384179707366465, 'f1_score_micro': 0.27897838899803534}\n",
            "Confusion Matrix is:\n",
            " [[ 14  85 189  95]\n",
            " [  7  65 201 118]\n",
            " [  3  75 224  78]\n",
            " [  1  87 162 123]]\n",
            "Ensemble accuracy: 0.28356254092992794\n",
            "for window size 10: {'auc': 0.546859803321206, 'precision_micro': 0.28356254092992794, 'precision_macro': 0.20593231676435353, 'recall_macro': 0.286801163616102, 'recall_micro': 0.28356254092992794, 'f1_score_macro': 0.2246564545219069, 'f1_score_micro': 0.28356254092992794}\n",
            "Confusion Matrix is:\n",
            " [[  0  54 141 188]\n",
            " [  0  45 106 240]\n",
            " [  0  40 164 176]\n",
            " [  0  62  87 224]]\n"
          ],
          "name": "stdout"
        },
        {
          "output_type": "stream",
          "text": [
            "/usr/local/lib/python3.6/dist-packages/sklearn/metrics/classification.py:1135: UndefinedMetricWarning: F-score is ill-defined and being set to 0.0 in labels with no predicted samples.\n",
            "  'precision', 'predicted', average, warn_for)\n",
            "/usr/local/lib/python3.6/dist-packages/sklearn/metrics/classification.py:1135: UndefinedMetricWarning: Precision is ill-defined and being set to 0.0 in labels with no predicted samples.\n",
            "  'precision', 'predicted', average, warn_for)\n"
          ],
          "name": "stderr"
        }
      ]
    },
    {
      "metadata": {
        "id": "GO4_dxwvHtk9",
        "colab_type": "code",
        "colab": {
          "autoexec": {
            "startup": false,
            "wait_interval": 0
          }
        }
      },
      "cell_type": "code",
      "source": [
        ""
      ],
      "execution_count": 0,
      "outputs": []
    },
    {
      "metadata": {
        "id": "L1r1GFWxVWx7",
        "colab_type": "code",
        "colab": {
          "autoexec": {
            "startup": false,
            "wait_interval": 0
          }
        }
      },
      "cell_type": "code",
      "source": [
        ""
      ],
      "execution_count": 0,
      "outputs": []
    },
    {
      "metadata": {
        "id": "7FPEtzuhFl2Y",
        "colab_type": "code",
        "colab": {
          "autoexec": {
            "startup": false,
            "wait_interval": 0
          },
          "base_uri": "https://localhost:8080/",
          "height": 157
        },
        "outputId": "231f81d7-bfa3-4529-e9f9-d0d8f50d94fe",
        "executionInfo": {
          "status": "ok",
          "timestamp": 1525589046297,
          "user_tz": 240,
          "elapsed": 235,
          "user": {
            "displayName": "Mao Guan",
            "photoUrl": "//lh3.googleusercontent.com/-tw8XacBaHjA/AAAAAAAAAAI/AAAAAAAAABE/ap4zu0X2-1Y/s50-c-k-no/photo.jpg",
            "userId": "112605138981964979927"
          }
        }
      },
      "cell_type": "code",
      "source": [
        "f1_score_macro,f1_score_micro,auc,precision_micro,precision_macro,recall_macro,recall_micro,c_m = ensemble(y_val_hat1,y_valid1,y_val_hat2,y_valid2,y_test_hat1,y_test1,y_test_hat2,y_test2,'DecT')\n",
        "r = {'auc': auc, 'precision_micro':precision_micro,'precision_macro':precision_macro,'recall_macro':recall_macro,'recall_micro':recall_micro,\n",
        "              'f1_score_macro':f1_score_macro, 'f1_score_micro':f1_score_micro}\n",
        "print(\"for window size {}:\".format(i), r)\n",
        "print(\"Confusion Matrix is:\\n\",c_m)"
      ],
      "execution_count": 67,
      "outputs": [
        {
          "output_type": "stream",
          "text": [
            "Ensemble accuracy: 0.3829013187812642\n",
            "for window size 10: {'auc': 0.5185682674371823, 'precision_micro': 0.3829013187812642, 'precision_macro': 0.3932449307008894, 'recall_macro': 0.38389275782961474, 'recall_micro': 0.3829013187812642, 'f1_score_macro': 0.38199760112262776, 'f1_score_micro': 0.38290131878126415}\n",
            "Confusion Matrix is:\n",
            " [[334 152 235   0]\n",
            " [281 248 231   0]\n",
            " [327 131 260   0]\n",
            " [  0   0   0   0]]\n"
          ],
          "name": "stdout"
        }
      ]
    },
    {
      "metadata": {
        "id": "KqAbj9YqPgOr",
        "colab_type": "code",
        "colab": {
          "autoexec": {
            "startup": false,
            "wait_interval": 0
          },
          "base_uri": "https://localhost:8080/",
          "height": 86
        },
        "outputId": "77b1242f-f73f-4813-94aa-a166123667cc",
        "executionInfo": {
          "status": "ok",
          "timestamp": 1525589888575,
          "user_tz": 240,
          "elapsed": 291,
          "user": {
            "displayName": "Mao Guan",
            "photoUrl": "//lh3.googleusercontent.com/-tw8XacBaHjA/AAAAAAAAAAI/AAAAAAAAABE/ap4zu0X2-1Y/s50-c-k-no/photo.jpg",
            "userId": "112605138981964979927"
          }
        }
      },
      "cell_type": "code",
      "source": [
        "c_m = confusion_matrix(decode(y_test1),decode(y_test_hat1),labels = [1,2,3,4])\n",
        "c_m"
      ],
      "execution_count": 74,
      "outputs": [
        {
          "output_type": "execute_result",
          "data": {
            "text/plain": [
              "array([[334, 175, 212,   0],\n",
              "       [281, 275, 204,   0],\n",
              "       [327, 145, 246,   0],\n",
              "       [  0,   0,   0,   0]])"
            ]
          },
          "metadata": {
            "tags": []
          },
          "execution_count": 74
        }
      ]
    },
    {
      "metadata": {
        "id": "e77KLgnrPmYc",
        "colab_type": "code",
        "colab": {
          "autoexec": {
            "startup": false,
            "wait_interval": 0
          },
          "base_uri": "https://localhost:8080/",
          "height": 86
        },
        "outputId": "0390abbf-b840-4ef3-aef7-3c5a85d4a1ab",
        "executionInfo": {
          "status": "ok",
          "timestamp": 1525589906478,
          "user_tz": 240,
          "elapsed": 265,
          "user": {
            "displayName": "Mao Guan",
            "photoUrl": "//lh3.googleusercontent.com/-tw8XacBaHjA/AAAAAAAAAAI/AAAAAAAAABE/ap4zu0X2-1Y/s50-c-k-no/photo.jpg",
            "userId": "112605138981964979927"
          }
        }
      },
      "cell_type": "code",
      "source": [
        "c_m = confusion_matrix(decode(y_test2),decode(y_test_hat2),labels = [1,2,3,4])\n",
        "c_m"
      ],
      "execution_count": 75,
      "outputs": [
        {
          "output_type": "execute_result",
          "data": {
            "text/plain": [
              "array([[  0, 613, 108,   0],\n",
              "       [  0, 692,  68,   0],\n",
              "       [  0, 641,  77,   0],\n",
              "       [  0,   0,   0,   0]])"
            ]
          },
          "metadata": {
            "tags": []
          },
          "execution_count": 75
        }
      ]
    },
    {
      "metadata": {
        "id": "8AS1cf5t11wB",
        "colab_type": "code",
        "colab": {
          "autoexec": {
            "startup": false,
            "wait_interval": 0
          },
          "base_uri": "https://localhost:8080/",
          "height": 35
        },
        "outputId": "edba78d3-da14-4e0b-d64f-91a0f58d2657",
        "executionInfo": {
          "status": "ok",
          "timestamp": 1525583292353,
          "user_tz": 240,
          "elapsed": 270,
          "user": {
            "displayName": "Mao Guan",
            "photoUrl": "//lh3.googleusercontent.com/-tw8XacBaHjA/AAAAAAAAAAI/AAAAAAAAABE/ap4zu0X2-1Y/s50-c-k-no/photo.jpg",
            "userId": "112605138981964979927"
          }
        }
      },
      "cell_type": "code",
      "source": [
        "a = decode(y_val_hat1)\n",
        "a = a.reshape((a.shape[0],1))\n",
        "b = decode(y_val_hat2)\n",
        "b = b.reshape((a.shape[0],1))\n",
        "\n",
        "np.concatenate((a, b), axis=1).shape"
      ],
      "execution_count": 61,
      "outputs": [
        {
          "output_type": "execute_result",
          "data": {
            "text/plain": [
              "(1221, 2)"
            ]
          },
          "metadata": {
            "tags": []
          },
          "execution_count": 61
        }
      ]
    },
    {
      "metadata": {
        "id": "dfbCZ6czsbQ-",
        "colab_type": "text"
      },
      "cell_type": "markdown",
      "source": [
        "## Sentiment Features and Price Features for 1200 epochs:\n",
        "'auc'| 'precision_micro'| 'precision_macro'|'recall_macro'|'recall_micro'|'f1_score_macro'|'f1_score_micro'\n",
        "-----|------------------|------------------|--------------|--------------|----------------|----------------|\n",
        "0.5445436366738032| 0.359825327510917|0.3513024979513009|0.35838485799985037|0.359825327510917| 0.3516548321948278|0.359825327510917\n",
        "\n",
        "### Confusion Matrix\n",
        "Actual\\Predicted |Big Rise| Small Rise| Big Drop| Small Drop\n",
        "-----|--------|-----------|---------|-----------\n",
        "Big Rise|256|101|129|88|\n",
        "Small Rise|136|158|143|142|\n",
        "Big Drop|159|72|283|69|\n",
        "Small Drop|138|160|129|127|"
      ]
    },
    {
      "metadata": {
        "id": "H-Z_FwSYJ8by",
        "colab_type": "text"
      },
      "cell_type": "markdown",
      "source": [
        "## Price for 500 epochs:\n",
        "'auc'| 'precision_micro'| 'precision_macro'|'recall_macro'|'recall_micro'|'f1_score_macro'|'f1_score_micro'\n",
        "-----|------------------|------------------|--------------|--------------|----------------|----------------|\n",
        "0.5206239420028284| 0.4200873362445415|0.3996838453720597|0.4188029191075343|0.4200873362445415| 0.399636047092913|0.4200873362445415\n",
        "\n",
        "### Confusion Matrix\n",
        "Actual\\Predicted |Big Rise| Small Rise| Big Drop| Small Drop\n",
        "-----|--------|-----------|---------|-----------\n",
        "Big Rise|338|90|101|45|\n",
        "Small Rise|181|103|158|137|\n",
        "Big Drop|88|67|356|72|\n",
        "Small Drop|141|98|150|165|"
      ]
    },
    {
      "metadata": {
        "id": "hyin9ZBe6Xry",
        "colab_type": "text"
      },
      "cell_type": "markdown",
      "source": [
        "## Base + votes + children for 500 epochs:\n",
        "'auc'| 'precision_micro'| 'precision_macro'|'recall_macro'|'recall_micro'|'f1_score_macro'|'f1_score_micro'\n",
        "-----|------------------|------------------|--------------|--------------|----------------|----------------|\n",
        "0.519060856855317| 0.34541484716157206|0.3431718478440214|0.34406933882804225|0.34541484716157206| 0.339336920758238|0.34541484716157206\n",
        "\n",
        "### Confusion Matrix\n",
        "'   ' |Big Rise| Small Rise| Big Drop| Small Drop\n",
        "-----|--------|-----------|---------|-----------\n",
        "Big Rise|212|120|173|69|\n",
        "Small Rise|124|172|173|110|\n",
        "Big Drop|127|106|276|74|\n",
        "Small Drop|135|150|138|131|"
      ]
    },
    {
      "metadata": {
        "id": "7L7AOKmmwq7c",
        "colab_type": "text"
      },
      "cell_type": "markdown",
      "source": [
        "## Windowsize:10, test for different feature groups\n",
        "####  Base for 50 epochs:\n",
        "'auc'| 'precision_micro'| 'precision_macro'|'recall_macro'|'recall_micro'|'f1_score_macro'|'f1_score_micro'\n",
        "-----|------------------|------------------|--------------|--------------|----------------|----------------|\n",
        "0.5005990901098147| 0.28908296943231443|0.2770246250532733|0.2852366937969609|0.28908296943231443| 0.2302326383107919|0.28908296943231443\n",
        "#### Base + price for 50 epochs:\n",
        "'auc'| 'precision_micro'| 'precision_macro'|'recall_macro'|'recall_micro'|'f1_score_macro'|'f1_score_micro'\n",
        "-----|------------------|------------------|--------------|--------------|----------------|----------------|\n",
        "0.547361429498652| 0.27729257641921395|0.2109952777269392|0.2746505445011486|0.27729257641921395| 0.2284276100087974|0.27729257641921395\n",
        "#### Base + votes for 50 epochs:\n",
        "'auc'| 'precision_micro'| 'precision_macro'|'recall_macro'|'recall_micro'|'f1_score_macro'|'f1_score_micro'\n",
        "-----|------------------|------------------|--------------|--------------|----------------|----------------|\n",
        "0.5092977573740572|0.30087336244541485|0.3329899383448548|0.29784330881024623|0.30087336244541485|0.25202695337880227|0.30087336244541485\n",
        "#### Base + children for 50 epochs:\n",
        "'auc'| 'precision_micro'| 'precision_macro'|'recall_macro'|'recall_micro'|'f1_score_macro'|'f1_score_micro'\n",
        "-----|------------------|------------------|--------------|--------------|----------------|----------------|\n",
        "0.5302088790504196|0.3078602620087336|0.3450824540222383|0.30994176701684834|0.3078602620087336|0.2730912731732309|0.3078602620087336\n",
        "#### Base + price + votes for 50 epochs:\n",
        "'auc'| 'precision_micro'| 'precision_macro'|'recall_macro'|'recall_micro'|'f1_score_macro'|'f1_score_micro'\n",
        "-----|------------------|------------------|--------------|--------------|----------------|----------------|\n",
        "0.5369851080431507|0.28646288209606985|0.2948753786325703|0.2869497396794007|0.28646288209606985|0.2830739655330628|0.28646288209606985\n",
        "#### Base + price + votes + children for 50 epochs:\n",
        "'auc'| 'precision_micro'| 'precision_macro'|'recall_macro'|'recall_micro'|'f1_score_macro'|'f1_score_micro'\n",
        "-----|------------------|------------------|--------------|--------------|----------------|----------------|\n",
        "0.4958709720401062|0.30393013100436683|0.3080448545969522|0.3030564133632078|0.30393013100436683|0.2939033903114252|0.30393013100436683"
      ]
    },
    {
      "metadata": {
        "id": "XvTAQttGN48Y",
        "colab_type": "code",
        "colab": {
          "autoexec": {
            "startup": false,
            "wait_interval": 0
          }
        }
      },
      "cell_type": "code",
      "source": [
        "{'auc': 0.4956453669187185, 'precision_micro': 0.24017467248908297, 'precision_macro': 0.24153313182421451, 'recall_macro': 0.24385893474130554, 'recall_micro': 0.24017467248908297, 'f1_score_macro': 0.20780530115665385, 'f1_score_micro': 0.24017467248908297, 'history': <keras.callbacks.History object at 0x7fa7a86bd9b0>}"
      ],
      "execution_count": 0,
      "outputs": []
    },
    {
      "metadata": {
        "id": "lLu1AEvFnvPR",
        "colab_type": "code",
        "colab": {
          "autoexec": {
            "startup": false,
            "wait_interval": 0
          }
        }
      },
      "cell_type": "code",
      "source": [
        "{'auc': 0.5151306844162884, 'precision_micro': 0.3091703056768559, 'precision_macro': 0.3218440980033369, 'recall_macro': 0.31138834061676546, 'recall_micro': 0.3091703056768559, 'f1_score_macro': 0.28316405911369336, 'f1_score_micro': 0.3091703056768559, 'history': <keras.callbacks.History object at 0x7fa7afa82a58>}"
      ],
      "execution_count": 0,
      "outputs": []
    },
    {
      "metadata": {
        "id": "Ced0DfxRonNs",
        "colab_type": "code",
        "colab": {
          "autoexec": {
            "startup": false,
            "wait_interval": 0
          }
        }
      },
      "cell_type": "code",
      "source": [
        "{'auc': 0.5, 'precision_micro': 0.24192139737991267, 'precision_macro': 0.06048034934497817, 'recall_macro': 0.25, 'recall_micro': 0.24192139737991267, 'f1_score_macro': 0.09739803094233475, 'f1_score_micro': 0.24192139737991267, 'history': <keras.callbacks.History object at 0x7fa7a3d3bc50>}\n"
      ],
      "execution_count": 0,
      "outputs": []
    },
    {
      "metadata": {
        "id": "I_-YHCttpc3r",
        "colab_type": "code",
        "colab": {
          "autoexec": {
            "startup": false,
            "wait_interval": 0
          }
        }
      },
      "cell_type": "code",
      "source": [
        "{'auc': 0.5402324086046904, 'precision_micro': 0.2908296943231441, 'precision_macro': 0.28935962134184084, 'recall_macro': 0.29142144146603355, 'recall_micro': 0.2908296943231441, 'f1_score_macro': 0.2625610099685849, 'f1_score_micro': 0.2908296943231441, 'history': <keras.callbacks.History object at 0x7fa7a13e62b0>}"
      ],
      "execution_count": 0,
      "outputs": []
    },
    {
      "metadata": {
        "id": "tKwAMkDRrIlk",
        "colab_type": "code",
        "colab": {
          "autoexec": {
            "startup": false,
            "wait_interval": 0
          }
        }
      },
      "cell_type": "code",
      "source": [
        "{'auc': 0.5096263232219843, 'precision_micro': 0.27729257641921395, 'precision_macro': 0.2217187153564916, 'recall_macro': 0.2822823245756654, 'recall_micro': 0.27729257641921395, 'f1_score_macro': 0.20618665293038474, 'f1_score_micro': 0.27729257641921395, 'history': <keras.callbacks.History object at 0x7fa79f68c240>}"
      ],
      "execution_count": 0,
      "outputs": []
    },
    {
      "metadata": {
        "id": "jQNypjDcsgKf",
        "colab_type": "code",
        "colab": {
          "autoexec": {
            "startup": false,
            "wait_interval": 0
          }
        }
      },
      "cell_type": "code",
      "source": [
        "for window size 10: {'auc': 0.5295219694973801, 'precision_micro': 0.29519650655021834, 'precision_macro': 0.2922904325531389, 'recall_macro': 0.29408375016127086, 'recall_micro': 0.29519650655021834, 'f1_score_macro': 0.2897063953819937, 'f1_score_micro': 0.29519650655021834, 'history': <keras.callbacks.History object at 0x7fa79cc41c18>}"
      ],
      "execution_count": 0,
      "outputs": []
    }
  ]
}